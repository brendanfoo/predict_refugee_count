{
  "nbformat": 4,
  "nbformat_minor": 0,
  "metadata": {
    "colab": {
      "provenance": [],
      "collapsed_sections": [
        "_RSEtTjdF0kt",
        "ZLdi6dK5F5dv"
      ],
      "include_colab_link": true
    },
    "kernelspec": {
      "name": "python3",
      "display_name": "Python 3"
    },
    "language_info": {
      "name": "python"
    }
  },
  "cells": [
    {
      "cell_type": "markdown",
      "metadata": {
        "id": "view-in-github",
        "colab_type": "text"
      },
      "source": [
        "<a href=\"https://colab.research.google.com/github/brendanfoo/predict_refugee_count/blob/main/RF_ensemble_for_m_h.ipynb\" target=\"_parent\"><img src=\"https://colab.research.google.com/assets/colab-badge.svg\" alt=\"Open In Colab\"/></a>"
      ]
    },
    {
      "cell_type": "markdown",
      "source": [
        "# imports / data prep"
      ],
      "metadata": {
        "id": "ErEmgKZiFcJB"
      }
    },
    {
      "cell_type": "code",
      "execution_count": null,
      "metadata": {
        "id": "tB40gc9FZ97k"
      },
      "outputs": [],
      "source": [
        "# Imports\n",
        "import pandas as pd\n",
        "import geopandas as gpd\n",
        "import random\n",
        "import altair as alt\n",
        "import matplotlib.pyplot as plt\n",
        "import numpy as np\n",
        "from sklearn.model_selection import train_test_split\n",
        "from sklearn import preprocessing\n",
        "\n",
        "from sklearn.metrics import confusion_matrix\n",
        "import seaborn\n",
        "from sklearn.linear_model import LogisticRegression\n",
        "from sklearn.datasets import make_classification\n",
        "from sklearn.linear_model import LogisticRegression\n",
        "from sklearn.model_selection import train_test_split\n",
        "from sklearn.pipeline import make_pipeline\n",
        "from sklearn.preprocessing import StandardScaler\n",
        "\n",
        "# Modelling\n",
        "from sklearn.ensemble import RandomForestClassifier\n",
        "from sklearn.metrics import accuracy_score, confusion_matrix, precision_score, recall_score, ConfusionMatrixDisplay\n",
        "from sklearn.model_selection import RandomizedSearchCV, train_test_split\n",
        "from scipy.stats import randint\n",
        "from sklearn.preprocessing import LabelEncoder\n",
        "\n",
        "# Tree Visualisation\n",
        "from sklearn.tree import export_graphviz\n",
        "from IPython.display import Image\n",
        "import graphviz\n",
        "\n",
        "import warnings\n",
        "warnings.filterwarnings(\"ignore\", category=FutureWarning)"
      ]
    },
    {
      "cell_type": "code",
      "source": [
        "from google.colab import drive\n",
        "drive.mount(\"/content/drive\")"
      ],
      "metadata": {
        "colab": {
          "base_uri": "https://localhost:8080/"
        },
        "id": "Sc4QZJYZfdEW",
        "outputId": "f95ca9ac-a89e-4e21-c22f-332757f5cd1f"
      },
      "execution_count": null,
      "outputs": [
        {
          "output_type": "stream",
          "name": "stdout",
          "text": [
            "Mounted at /content/drive\n"
          ]
        }
      ]
    },
    {
      "cell_type": "code",
      "source": [
        "fullmerge = pd.read_csv('/content/drive/MyDrive/210RefugeeMoves/datasets/FULLMERGE.csv').iloc[:, 1:]\n",
        "fullmerge.head()"
      ],
      "metadata": {
        "colab": {
          "base_uri": "https://localhost:8080/",
          "height": 411
        },
        "id": "TLuxPVAaSB08",
        "outputId": "75032cea-cfa7-4754-c552-d05049aba20d"
      },
      "execution_count": null,
      "outputs": [
        {
          "output_type": "execute_result",
          "data": {
            "text/plain": [
              "  ISO3  IDPs from Event      econ       gov       soc       cap       eco  \\\n",
              "0  AFG              270  0.178628  0.172592  0.335777  0.757451  0.507907   \n",
              "1  AFG              740  0.201495  0.193780  0.341216  0.732208  0.503280   \n",
              "2  AFG              244  0.201495  0.193780  0.341216  0.732208  0.503280   \n",
              "3  AFG             5775  0.201495  0.193780  0.341216  0.732208  0.503280   \n",
              "4  AFG            46380  0.210240  0.158260  0.354043  0.711203  0.509198   \n",
              "\n",
              "        exp      food       hab  ...       Area       Began       Ended  \\\n",
              "0  0.480512  0.580916  0.537736  ...   14653.47  2013-04-23  2013-04-29   \n",
              "1  0.480512  0.576083  0.539343  ...   83722.34  2014-04-20  2014-05-16   \n",
              "2  0.480512  0.576083  0.539343  ...   83722.34  2014-04-20  2014-05-16   \n",
              "3  0.480512  0.576083  0.539343  ...   44203.93  2014-06-03  2014-06-10   \n",
              "4  0.480512  0.615954  0.534952  ...  184396.90  2018-05-09  2018-05-22   \n",
              "\n",
              "         MainCause Severity Duration  Magnitude  Population  \\\n",
              "0  Torrential Rain      1.0      6.0  11.384192  31,098,161   \n",
              "1  Torrential Rain      1.5     26.0  14.998823  31,809,829   \n",
              "2  Torrential Rain      1.5     26.0  14.998823  31,809,829   \n",
              "3       Heavy Rain      1.5      7.0  13.047944  31,809,829   \n",
              "4  Torrential Rain      1.5     13.0  15.095260  34,907,481   \n",
              "\n",
              "   Population Density (People per Sq. Km.)  \\\n",
              "0                                     47.7   \n",
              "1                                     48.8   \n",
              "2                                     48.8   \n",
              "3                                     48.8   \n",
              "4                                     53.5   \n",
              "\n",
              "   Net international migrants, both sexes  \n",
              "0                                 -67,219  \n",
              "1                                 -58,115  \n",
              "2                                 -58,115  \n",
              "3                                 -58,115  \n",
              "4                                 -21,703  \n",
              "\n",
              "[5 rows x 23 columns]"
            ],
            "text/html": [
              "\n",
              "  <div id=\"df-c7d28524-2f74-4380-89bf-8755c44fdb6f\" class=\"colab-df-container\">\n",
              "    <div>\n",
              "<style scoped>\n",
              "    .dataframe tbody tr th:only-of-type {\n",
              "        vertical-align: middle;\n",
              "    }\n",
              "\n",
              "    .dataframe tbody tr th {\n",
              "        vertical-align: top;\n",
              "    }\n",
              "\n",
              "    .dataframe thead th {\n",
              "        text-align: right;\n",
              "    }\n",
              "</style>\n",
              "<table border=\"1\" class=\"dataframe\">\n",
              "  <thead>\n",
              "    <tr style=\"text-align: right;\">\n",
              "      <th></th>\n",
              "      <th>ISO3</th>\n",
              "      <th>IDPs from Event</th>\n",
              "      <th>econ</th>\n",
              "      <th>gov</th>\n",
              "      <th>soc</th>\n",
              "      <th>cap</th>\n",
              "      <th>eco</th>\n",
              "      <th>exp</th>\n",
              "      <th>food</th>\n",
              "      <th>hab</th>\n",
              "      <th>...</th>\n",
              "      <th>Area</th>\n",
              "      <th>Began</th>\n",
              "      <th>Ended</th>\n",
              "      <th>MainCause</th>\n",
              "      <th>Severity</th>\n",
              "      <th>Duration</th>\n",
              "      <th>Magnitude</th>\n",
              "      <th>Population</th>\n",
              "      <th>Population Density (People per Sq. Km.)</th>\n",
              "      <th>Net international migrants, both sexes</th>\n",
              "    </tr>\n",
              "  </thead>\n",
              "  <tbody>\n",
              "    <tr>\n",
              "      <th>0</th>\n",
              "      <td>AFG</td>\n",
              "      <td>270</td>\n",
              "      <td>0.178628</td>\n",
              "      <td>0.172592</td>\n",
              "      <td>0.335777</td>\n",
              "      <td>0.757451</td>\n",
              "      <td>0.507907</td>\n",
              "      <td>0.480512</td>\n",
              "      <td>0.580916</td>\n",
              "      <td>0.537736</td>\n",
              "      <td>...</td>\n",
              "      <td>14653.47</td>\n",
              "      <td>2013-04-23</td>\n",
              "      <td>2013-04-29</td>\n",
              "      <td>Torrential Rain</td>\n",
              "      <td>1.0</td>\n",
              "      <td>6.0</td>\n",
              "      <td>11.384192</td>\n",
              "      <td>31,098,161</td>\n",
              "      <td>47.7</td>\n",
              "      <td>-67,219</td>\n",
              "    </tr>\n",
              "    <tr>\n",
              "      <th>1</th>\n",
              "      <td>AFG</td>\n",
              "      <td>740</td>\n",
              "      <td>0.201495</td>\n",
              "      <td>0.193780</td>\n",
              "      <td>0.341216</td>\n",
              "      <td>0.732208</td>\n",
              "      <td>0.503280</td>\n",
              "      <td>0.480512</td>\n",
              "      <td>0.576083</td>\n",
              "      <td>0.539343</td>\n",
              "      <td>...</td>\n",
              "      <td>83722.34</td>\n",
              "      <td>2014-04-20</td>\n",
              "      <td>2014-05-16</td>\n",
              "      <td>Torrential Rain</td>\n",
              "      <td>1.5</td>\n",
              "      <td>26.0</td>\n",
              "      <td>14.998823</td>\n",
              "      <td>31,809,829</td>\n",
              "      <td>48.8</td>\n",
              "      <td>-58,115</td>\n",
              "    </tr>\n",
              "    <tr>\n",
              "      <th>2</th>\n",
              "      <td>AFG</td>\n",
              "      <td>244</td>\n",
              "      <td>0.201495</td>\n",
              "      <td>0.193780</td>\n",
              "      <td>0.341216</td>\n",
              "      <td>0.732208</td>\n",
              "      <td>0.503280</td>\n",
              "      <td>0.480512</td>\n",
              "      <td>0.576083</td>\n",
              "      <td>0.539343</td>\n",
              "      <td>...</td>\n",
              "      <td>83722.34</td>\n",
              "      <td>2014-04-20</td>\n",
              "      <td>2014-05-16</td>\n",
              "      <td>Torrential Rain</td>\n",
              "      <td>1.5</td>\n",
              "      <td>26.0</td>\n",
              "      <td>14.998823</td>\n",
              "      <td>31,809,829</td>\n",
              "      <td>48.8</td>\n",
              "      <td>-58,115</td>\n",
              "    </tr>\n",
              "    <tr>\n",
              "      <th>3</th>\n",
              "      <td>AFG</td>\n",
              "      <td>5775</td>\n",
              "      <td>0.201495</td>\n",
              "      <td>0.193780</td>\n",
              "      <td>0.341216</td>\n",
              "      <td>0.732208</td>\n",
              "      <td>0.503280</td>\n",
              "      <td>0.480512</td>\n",
              "      <td>0.576083</td>\n",
              "      <td>0.539343</td>\n",
              "      <td>...</td>\n",
              "      <td>44203.93</td>\n",
              "      <td>2014-06-03</td>\n",
              "      <td>2014-06-10</td>\n",
              "      <td>Heavy Rain</td>\n",
              "      <td>1.5</td>\n",
              "      <td>7.0</td>\n",
              "      <td>13.047944</td>\n",
              "      <td>31,809,829</td>\n",
              "      <td>48.8</td>\n",
              "      <td>-58,115</td>\n",
              "    </tr>\n",
              "    <tr>\n",
              "      <th>4</th>\n",
              "      <td>AFG</td>\n",
              "      <td>46380</td>\n",
              "      <td>0.210240</td>\n",
              "      <td>0.158260</td>\n",
              "      <td>0.354043</td>\n",
              "      <td>0.711203</td>\n",
              "      <td>0.509198</td>\n",
              "      <td>0.480512</td>\n",
              "      <td>0.615954</td>\n",
              "      <td>0.534952</td>\n",
              "      <td>...</td>\n",
              "      <td>184396.90</td>\n",
              "      <td>2018-05-09</td>\n",
              "      <td>2018-05-22</td>\n",
              "      <td>Torrential Rain</td>\n",
              "      <td>1.5</td>\n",
              "      <td>13.0</td>\n",
              "      <td>15.095260</td>\n",
              "      <td>34,907,481</td>\n",
              "      <td>53.5</td>\n",
              "      <td>-21,703</td>\n",
              "    </tr>\n",
              "  </tbody>\n",
              "</table>\n",
              "<p>5 rows × 23 columns</p>\n",
              "</div>\n",
              "    <div class=\"colab-df-buttons\">\n",
              "\n",
              "  <div class=\"colab-df-container\">\n",
              "    <button class=\"colab-df-convert\" onclick=\"convertToInteractive('df-c7d28524-2f74-4380-89bf-8755c44fdb6f')\"\n",
              "            title=\"Convert this dataframe to an interactive table.\"\n",
              "            style=\"display:none;\">\n",
              "\n",
              "  <svg xmlns=\"http://www.w3.org/2000/svg\" height=\"24px\" viewBox=\"0 -960 960 960\">\n",
              "    <path d=\"M120-120v-720h720v720H120Zm60-500h600v-160H180v160Zm220 220h160v-160H400v160Zm0 220h160v-160H400v160ZM180-400h160v-160H180v160Zm440 0h160v-160H620v160ZM180-180h160v-160H180v160Zm440 0h160v-160H620v160Z\"/>\n",
              "  </svg>\n",
              "    </button>\n",
              "\n",
              "  <style>\n",
              "    .colab-df-container {\n",
              "      display:flex;\n",
              "      gap: 12px;\n",
              "    }\n",
              "\n",
              "    .colab-df-convert {\n",
              "      background-color: #E8F0FE;\n",
              "      border: none;\n",
              "      border-radius: 50%;\n",
              "      cursor: pointer;\n",
              "      display: none;\n",
              "      fill: #1967D2;\n",
              "      height: 32px;\n",
              "      padding: 0 0 0 0;\n",
              "      width: 32px;\n",
              "    }\n",
              "\n",
              "    .colab-df-convert:hover {\n",
              "      background-color: #E2EBFA;\n",
              "      box-shadow: 0px 1px 2px rgba(60, 64, 67, 0.3), 0px 1px 3px 1px rgba(60, 64, 67, 0.15);\n",
              "      fill: #174EA6;\n",
              "    }\n",
              "\n",
              "    .colab-df-buttons div {\n",
              "      margin-bottom: 4px;\n",
              "    }\n",
              "\n",
              "    [theme=dark] .colab-df-convert {\n",
              "      background-color: #3B4455;\n",
              "      fill: #D2E3FC;\n",
              "    }\n",
              "\n",
              "    [theme=dark] .colab-df-convert:hover {\n",
              "      background-color: #434B5C;\n",
              "      box-shadow: 0px 1px 3px 1px rgba(0, 0, 0, 0.15);\n",
              "      filter: drop-shadow(0px 1px 2px rgba(0, 0, 0, 0.3));\n",
              "      fill: #FFFFFF;\n",
              "    }\n",
              "  </style>\n",
              "\n",
              "    <script>\n",
              "      const buttonEl =\n",
              "        document.querySelector('#df-c7d28524-2f74-4380-89bf-8755c44fdb6f button.colab-df-convert');\n",
              "      buttonEl.style.display =\n",
              "        google.colab.kernel.accessAllowed ? 'block' : 'none';\n",
              "\n",
              "      async function convertToInteractive(key) {\n",
              "        const element = document.querySelector('#df-c7d28524-2f74-4380-89bf-8755c44fdb6f');\n",
              "        const dataTable =\n",
              "          await google.colab.kernel.invokeFunction('convertToInteractive',\n",
              "                                                    [key], {});\n",
              "        if (!dataTable) return;\n",
              "\n",
              "        const docLinkHtml = 'Like what you see? Visit the ' +\n",
              "          '<a target=\"_blank\" href=https://colab.research.google.com/notebooks/data_table.ipynb>data table notebook</a>'\n",
              "          + ' to learn more about interactive tables.';\n",
              "        element.innerHTML = '';\n",
              "        dataTable['output_type'] = 'display_data';\n",
              "        await google.colab.output.renderOutput(dataTable, element);\n",
              "        const docLink = document.createElement('div');\n",
              "        docLink.innerHTML = docLinkHtml;\n",
              "        element.appendChild(docLink);\n",
              "      }\n",
              "    </script>\n",
              "  </div>\n",
              "\n",
              "\n",
              "<div id=\"df-a09cab7b-2a51-4d4e-b3e3-d8fc655fc03b\">\n",
              "  <button class=\"colab-df-quickchart\" onclick=\"quickchart('df-a09cab7b-2a51-4d4e-b3e3-d8fc655fc03b')\"\n",
              "            title=\"Suggest charts\"\n",
              "            style=\"display:none;\">\n",
              "\n",
              "<svg xmlns=\"http://www.w3.org/2000/svg\" height=\"24px\"viewBox=\"0 0 24 24\"\n",
              "     width=\"24px\">\n",
              "    <g>\n",
              "        <path d=\"M19 3H5c-1.1 0-2 .9-2 2v14c0 1.1.9 2 2 2h14c1.1 0 2-.9 2-2V5c0-1.1-.9-2-2-2zM9 17H7v-7h2v7zm4 0h-2V7h2v10zm4 0h-2v-4h2v4z\"/>\n",
              "    </g>\n",
              "</svg>\n",
              "  </button>\n",
              "\n",
              "<style>\n",
              "  .colab-df-quickchart {\n",
              "      --bg-color: #E8F0FE;\n",
              "      --fill-color: #1967D2;\n",
              "      --hover-bg-color: #E2EBFA;\n",
              "      --hover-fill-color: #174EA6;\n",
              "      --disabled-fill-color: #AAA;\n",
              "      --disabled-bg-color: #DDD;\n",
              "  }\n",
              "\n",
              "  [theme=dark] .colab-df-quickchart {\n",
              "      --bg-color: #3B4455;\n",
              "      --fill-color: #D2E3FC;\n",
              "      --hover-bg-color: #434B5C;\n",
              "      --hover-fill-color: #FFFFFF;\n",
              "      --disabled-bg-color: #3B4455;\n",
              "      --disabled-fill-color: #666;\n",
              "  }\n",
              "\n",
              "  .colab-df-quickchart {\n",
              "    background-color: var(--bg-color);\n",
              "    border: none;\n",
              "    border-radius: 50%;\n",
              "    cursor: pointer;\n",
              "    display: none;\n",
              "    fill: var(--fill-color);\n",
              "    height: 32px;\n",
              "    padding: 0;\n",
              "    width: 32px;\n",
              "  }\n",
              "\n",
              "  .colab-df-quickchart:hover {\n",
              "    background-color: var(--hover-bg-color);\n",
              "    box-shadow: 0 1px 2px rgba(60, 64, 67, 0.3), 0 1px 3px 1px rgba(60, 64, 67, 0.15);\n",
              "    fill: var(--button-hover-fill-color);\n",
              "  }\n",
              "\n",
              "  .colab-df-quickchart-complete:disabled,\n",
              "  .colab-df-quickchart-complete:disabled:hover {\n",
              "    background-color: var(--disabled-bg-color);\n",
              "    fill: var(--disabled-fill-color);\n",
              "    box-shadow: none;\n",
              "  }\n",
              "\n",
              "  .colab-df-spinner {\n",
              "    border: 2px solid var(--fill-color);\n",
              "    border-color: transparent;\n",
              "    border-bottom-color: var(--fill-color);\n",
              "    animation:\n",
              "      spin 1s steps(1) infinite;\n",
              "  }\n",
              "\n",
              "  @keyframes spin {\n",
              "    0% {\n",
              "      border-color: transparent;\n",
              "      border-bottom-color: var(--fill-color);\n",
              "      border-left-color: var(--fill-color);\n",
              "    }\n",
              "    20% {\n",
              "      border-color: transparent;\n",
              "      border-left-color: var(--fill-color);\n",
              "      border-top-color: var(--fill-color);\n",
              "    }\n",
              "    30% {\n",
              "      border-color: transparent;\n",
              "      border-left-color: var(--fill-color);\n",
              "      border-top-color: var(--fill-color);\n",
              "      border-right-color: var(--fill-color);\n",
              "    }\n",
              "    40% {\n",
              "      border-color: transparent;\n",
              "      border-right-color: var(--fill-color);\n",
              "      border-top-color: var(--fill-color);\n",
              "    }\n",
              "    60% {\n",
              "      border-color: transparent;\n",
              "      border-right-color: var(--fill-color);\n",
              "    }\n",
              "    80% {\n",
              "      border-color: transparent;\n",
              "      border-right-color: var(--fill-color);\n",
              "      border-bottom-color: var(--fill-color);\n",
              "    }\n",
              "    90% {\n",
              "      border-color: transparent;\n",
              "      border-bottom-color: var(--fill-color);\n",
              "    }\n",
              "  }\n",
              "</style>\n",
              "\n",
              "  <script>\n",
              "    async function quickchart(key) {\n",
              "      const quickchartButtonEl =\n",
              "        document.querySelector('#' + key + ' button');\n",
              "      quickchartButtonEl.disabled = true;  // To prevent multiple clicks.\n",
              "      quickchartButtonEl.classList.add('colab-df-spinner');\n",
              "      try {\n",
              "        const charts = await google.colab.kernel.invokeFunction(\n",
              "            'suggestCharts', [key], {});\n",
              "      } catch (error) {\n",
              "        console.error('Error during call to suggestCharts:', error);\n",
              "      }\n",
              "      quickchartButtonEl.classList.remove('colab-df-spinner');\n",
              "      quickchartButtonEl.classList.add('colab-df-quickchart-complete');\n",
              "    }\n",
              "    (() => {\n",
              "      let quickchartButtonEl =\n",
              "        document.querySelector('#df-a09cab7b-2a51-4d4e-b3e3-d8fc655fc03b button');\n",
              "      quickchartButtonEl.style.display =\n",
              "        google.colab.kernel.accessAllowed ? 'block' : 'none';\n",
              "    })();\n",
              "  </script>\n",
              "</div>\n",
              "    </div>\n",
              "  </div>\n"
            ]
          },
          "metadata": {},
          "execution_count": 3
        }
      ]
    },
    {
      "cell_type": "code",
      "source": [
        "cat = fullmerge.copy(deep = True).drop(columns = ['Ended'])\n",
        "cat = cat.dropna()\n",
        "#cat['binnedIDPs'] = cat.groupby('ISO3')['IDPs from Event'].apply(lambda x: pd.qcut(x, 3, duplicates = 'drop', labels = False).astype(str)) # BINS RELATIVE TO COUNTRY\n",
        "cat['binnedIDPs'] = pd.qcut(cat['IDPs from Event'], 3, duplicates = 'drop', labels = False).astype(str) # BINS AGNOSTIC OF COUNTRY\n",
        "# cat = cat.drop(columns = ['IDPs from Event'])\n",
        "cat = cat[~(cat['binnedIDPs'] == 'nan')]\n",
        "def label(x):\n",
        "  if x == '0':\n",
        "    return 'low'\n",
        "  if x == '1':\n",
        "    return 'med'\n",
        "  if x == '2':\n",
        "    return 'high'\n",
        "  return 'damn it'\n",
        "cat['binnedIDPs'] = cat['binnedIDPs'].apply(label)\n",
        "cat['binnedIDPs'].value_counts().plot(kind='bar')"
      ],
      "metadata": {
        "colab": {
          "base_uri": "https://localhost:8080/",
          "height": 568
        },
        "id": "uQPCkWOLSBuV",
        "outputId": "1968b26f-2035-451c-bf4b-d016b88e8561"
      },
      "execution_count": null,
      "outputs": [
        {
          "output_type": "stream",
          "name": "stderr",
          "text": [
            "<ipython-input-4-46dada2d6405>:4: SettingWithCopyWarning: \n",
            "A value is trying to be set on a copy of a slice from a DataFrame.\n",
            "Try using .loc[row_indexer,col_indexer] = value instead\n",
            "\n",
            "See the caveats in the documentation: https://pandas.pydata.org/pandas-docs/stable/user_guide/indexing.html#returning-a-view-versus-a-copy\n",
            "  cat['binnedIDPs'] = pd.qcut(cat['IDPs from Event'], 3, duplicates = 'drop', labels = False).astype(str) # BINS AGNOSTIC OF COUNTRY\n"
          ]
        },
        {
          "output_type": "execute_result",
          "data": {
            "text/plain": [
              "<Axes: >"
            ]
          },
          "metadata": {},
          "execution_count": 4
        },
        {
          "output_type": "display_data",
          "data": {
            "text/plain": [
              "<Figure size 640x480 with 1 Axes>"
            ],
            "image/png": "[encoded data removed]"
          },
          "metadata": {}
        }
      ]
    },
    {
      "cell_type": "code",
      "source": [
        "# histogram of the distribution of IDP counts color coded\n",
        "# by there qcut category for the categorical models\n",
        "\n",
        "cat_copy = cat.copy()\n",
        "\n",
        "cat_copy = cat_copy[cat_copy ['IDPs from Event'] <= 100000]\n",
        "cat_copy.head()\n",
        "\n",
        "plt.rcParams[\"figure.figsize\"] = (13,5)\n",
        "\n",
        "cat_copy.pivot(columns='binnedIDPs', values='IDPs from Event').plot.hist(bins=100,alpha=1)\n",
        "\n",
        "# Order legend from low to high\n",
        "handles, labels = plt.gca().get_legend_handles_labels()\n",
        "order = [1,2,0]\n",
        "\n",
        "# Add legend and title to plot\n",
        "plt.legend([handles[idx] for idx in order],[labels[idx] for idx in order])\n",
        "plt.title('Distribution of IDP Counts by qcut Category')\n",
        "plt.xlabel('IDP count (millions)')\n",
        "#plt.ylim(top = 200)\n",
        "\n",
        "plt.show()"
      ],
      "metadata": {
        "colab": {
          "base_uri": "https://localhost:8080/",
          "height": 487
        },
        "id": "jYxWjS2QrY1T",
        "outputId": "7b54545c-2f20-46c1-fb34-d5d9c9a6ab91"
      },
      "execution_count": null,
      "outputs": [
        {
          "output_type": "display_data",
          "data": {
            "text/plain": [
              "<Figure size 1300x500 with 1 Axes>"
            ],
            "image/png": "[encoded data removed]"
          },
          "metadata": {}
        }
      ]
    },
    {
      "cell_type": "code",
      "source": [
        "cat.head()"
      ],
      "metadata": {
        "colab": {
          "base_uri": "https://localhost:8080/",
          "height": 411
        },
        "id": "OmYl-YTaU_vP",
        "outputId": "cb0c2540-f5b4-4ee5-f450-2a9d0d612ce1"
      },
      "execution_count": null,
      "outputs": [
        {
          "output_type": "execute_result",
          "data": {
            "text/plain": [
              "   ISO3  IDPs from Event      econ       gov      soc       cap      eco  \\\n",
              "31  AGO             3920  0.139844  0.308112  0.18999  0.734707  0.54614   \n",
              "32  AGO             3920  0.139844  0.308112  0.18999  0.734707  0.54614   \n",
              "33  AGO             1192  0.139844  0.308112  0.18999  0.734707  0.54614   \n",
              "34  AGO             1192  0.139844  0.308112  0.18999  0.734707  0.54614   \n",
              "35  AGO              483  0.139844  0.308112  0.18999  0.734707  0.54614   \n",
              "\n",
              "         exp      food       hab  ...      Area       Began        MainCause  \\\n",
              "31  0.543063  0.571513  0.680376  ...  12133.31  2015-03-09  Torrential Rain   \n",
              "32  0.543063  0.571513  0.680376  ...  10252.79  2015-03-09  Torrential Rain   \n",
              "33  0.543063  0.571513  0.680376  ...  12133.31  2015-03-09  Torrential Rain   \n",
              "34  0.543063  0.571513  0.680376  ...  10252.79  2015-03-09  Torrential Rain   \n",
              "35  0.543063  0.571513  0.680376  ...  12133.31  2015-03-09  Torrential Rain   \n",
              "\n",
              "    Severity Duration  Magnitude  Population  \\\n",
              "31       1.5     14.0  12.448232  27,292,819   \n",
              "32       1.5     14.0  12.279828  27,292,819   \n",
              "33       1.5     14.0  12.448232  27,292,819   \n",
              "34       1.5     14.0  12.279828  27,292,819   \n",
              "35       1.5     14.0  12.448232  27,292,819   \n",
              "\n",
              "    Population Density (People per Sq. Km.)  \\\n",
              "31                                     21.9   \n",
              "32                                     21.9   \n",
              "33                                     21.9   \n",
              "34                                     21.9   \n",
              "35                                     21.9   \n",
              "\n",
              "    Net international migrants, both sexes binnedIDPs  \n",
              "31                                  14,473       high  \n",
              "32                                  14,473       high  \n",
              "33                                  14,473        med  \n",
              "34                                  14,473        med  \n",
              "35                                  14,473        med  \n",
              "\n",
              "[5 rows x 23 columns]"
            ],
            "text/html": [
              "\n",
              "  <div id=\"df-7b94cc8c-3592-41a9-ad9a-e544a5df5f2e\" class=\"colab-df-container\">\n",
              "    <div>\n",
              "<style scoped>\n",
              "    .dataframe tbody tr th:only-of-type {\n",
              "        vertical-align: middle;\n",
              "    }\n",
              "\n",
              "    .dataframe tbody tr th {\n",
              "        vertical-align: top;\n",
              "    }\n",
              "\n",
              "    .dataframe thead th {\n",
              "        text-align: right;\n",
              "    }\n",
              "</style>\n",
              "<table border=\"1\" class=\"dataframe\">\n",
              "  <thead>\n",
              "    <tr style=\"text-align: right;\">\n",
              "      <th></th>\n",
              "      <th>ISO3</th>\n",
              "      <th>IDPs from Event</th>\n",
              "      <th>econ</th>\n",
              "      <th>gov</th>\n",
              "      <th>soc</th>\n",
              "      <th>cap</th>\n",
              "      <th>eco</th>\n",
              "      <th>exp</th>\n",
              "      <th>food</th>\n",
              "      <th>hab</th>\n",
              "      <th>...</th>\n",
              "      <th>Area</th>\n",
              "      <th>Began</th>\n",
              "      <th>MainCause</th>\n",
              "      <th>Severity</th>\n",
              "      <th>Duration</th>\n",
              "      <th>Magnitude</th>\n",
              "      <th>Population</th>\n",
              "      <th>Population Density (People per Sq. Km.)</th>\n",
              "      <th>Net international migrants, both sexes</th>\n",
              "      <th>binnedIDPs</th>\n",
              "    </tr>\n",
              "  </thead>\n",
              "  <tbody>\n",
              "    <tr>\n",
              "      <th>31</th>\n",
              "      <td>AGO</td>\n",
              "      <td>3920</td>\n",
              "      <td>0.139844</td>\n",
              "      <td>0.308112</td>\n",
              "      <td>0.18999</td>\n",
              "      <td>0.734707</td>\n",
              "      <td>0.54614</td>\n",
              "      <td>0.543063</td>\n",
              "      <td>0.571513</td>\n",
              "      <td>0.680376</td>\n",
              "      <td>...</td>\n",
              "      <td>12133.31</td>\n",
              "      <td>2015-03-09</td>\n",
              "      <td>Torrential Rain</td>\n",
              "      <td>1.5</td>\n",
              "      <td>14.0</td>\n",
              "      <td>12.448232</td>\n",
              "      <td>27,292,819</td>\n",
              "      <td>21.9</td>\n",
              "      <td>14,473</td>\n",
              "      <td>high</td>\n",
              "    </tr>\n",
              "    <tr>\n",
              "      <th>32</th>\n",
              "      <td>AGO</td>\n",
              "      <td>3920</td>\n",
              "      <td>0.139844</td>\n",
              "      <td>0.308112</td>\n",
              "      <td>0.18999</td>\n",
              "      <td>0.734707</td>\n",
              "      <td>0.54614</td>\n",
              "      <td>0.543063</td>\n",
              "      <td>0.571513</td>\n",
              "      <td>0.680376</td>\n",
              "      <td>...</td>\n",
              "      <td>10252.79</td>\n",
              "      <td>2015-03-09</td>\n",
              "      <td>Torrential Rain</td>\n",
              "      <td>1.5</td>\n",
              "      <td>14.0</td>\n",
              "      <td>12.279828</td>\n",
              "      <td>27,292,819</td>\n",
              "      <td>21.9</td>\n",
              "      <td>14,473</td>\n",
              "      <td>high</td>\n",
              "    </tr>\n",
              "    <tr>\n",
              "      <th>33</th>\n",
              "      <td>AGO</td>\n",
              "      <td>1192</td>\n",
              "      <td>0.139844</td>\n",
              "      <td>0.308112</td>\n",
              "      <td>0.18999</td>\n",
              "      <td>0.734707</td>\n",
              "      <td>0.54614</td>\n",
              "      <td>0.543063</td>\n",
              "      <td>0.571513</td>\n",
              "      <td>0.680376</td>\n",
              "      <td>...</td>\n",
              "      <td>12133.31</td>\n",
              "      <td>2015-03-09</td>\n",
              "      <td>Torrential Rain</td>\n",
              "      <td>1.5</td>\n",
              "      <td>14.0</td>\n",
              "      <td>12.448232</td>\n",
              "      <td>27,292,819</td>\n",
              "      <td>21.9</td>\n",
              "      <td>14,473</td>\n",
              "      <td>med</td>\n",
              "    </tr>\n",
              "    <tr>\n",
              "      <th>34</th>\n",
              "      <td>AGO</td>\n",
              "      <td>1192</td>\n",
              "      <td>0.139844</td>\n",
              "      <td>0.308112</td>\n",
              "      <td>0.18999</td>\n",
              "      <td>0.734707</td>\n",
              "      <td>0.54614</td>\n",
              "      <td>0.543063</td>\n",
              "      <td>0.571513</td>\n",
              "      <td>0.680376</td>\n",
              "      <td>...</td>\n",
              "      <td>10252.79</td>\n",
              "      <td>2015-03-09</td>\n",
              "      <td>Torrential Rain</td>\n",
              "      <td>1.5</td>\n",
              "      <td>14.0</td>\n",
              "      <td>12.279828</td>\n",
              "      <td>27,292,819</td>\n",
              "      <td>21.9</td>\n",
              "      <td>14,473</td>\n",
              "      <td>med</td>\n",
              "    </tr>\n",
              "    <tr>\n",
              "      <th>35</th>\n",
              "      <td>AGO</td>\n",
              "      <td>483</td>\n",
              "      <td>0.139844</td>\n",
              "      <td>0.308112</td>\n",
              "      <td>0.18999</td>\n",
              "      <td>0.734707</td>\n",
              "      <td>0.54614</td>\n",
              "      <td>0.543063</td>\n",
              "      <td>0.571513</td>\n",
              "      <td>0.680376</td>\n",
              "      <td>...</td>\n",
              "      <td>12133.31</td>\n",
              "      <td>2015-03-09</td>\n",
              "      <td>Torrential Rain</td>\n",
              "      <td>1.5</td>\n",
              "      <td>14.0</td>\n",
              "      <td>12.448232</td>\n",
              "      <td>27,292,819</td>\n",
              "      <td>21.9</td>\n",
              "      <td>14,473</td>\n",
              "      <td>med</td>\n",
              "    </tr>\n",
              "  </tbody>\n",
              "</table>\n",
              "<p>5 rows × 23 columns</p>\n",
              "</div>\n",
              "    <div class=\"colab-df-buttons\">\n",
              "\n",
              "  <div class=\"colab-df-container\">\n",
              "    <button class=\"colab-df-convert\" onclick=\"convertToInteractive('df-7b94cc8c-3592-41a9-ad9a-e544a5df5f2e')\"\n",
              "            title=\"Convert this dataframe to an interactive table.\"\n",
              "            style=\"display:none;\">\n",
              "\n",
              "  <svg xmlns=\"http://www.w3.org/2000/svg\" height=\"24px\" viewBox=\"0 -960 960 960\">\n",
              "    <path d=\"M120-120v-720h720v720H120Zm60-500h600v-160H180v160Zm220 220h160v-160H400v160Zm0 220h160v-160H400v160ZM180-400h160v-160H180v160Zm440 0h160v-160H620v160ZM180-180h160v-160H180v160Zm440 0h160v-160H620v160Z\"/>\n",
              "  </svg>\n",
              "    </button>\n",
              "\n",
              "  <style>\n",
              "    .colab-df-container {\n",
              "      display:flex;\n",
              "      gap: 12px;\n",
              "    }\n",
              "\n",
              "    .colab-df-convert {\n",
              "      background-color: #E8F0FE;\n",
              "      border: none;\n",
              "      border-radius: 50%;\n",
              "      cursor: pointer;\n",
              "      display: none;\n",
              "      fill: #1967D2;\n",
              "      height: 32px;\n",
              "      padding: 0 0 0 0;\n",
              "      width: 32px;\n",
              "    }\n",
              "\n",
              "    .colab-df-convert:hover {\n",
              "      background-color: #E2EBFA;\n",
              "      box-shadow: 0px 1px 2px rgba(60, 64, 67, 0.3), 0px 1px 3px 1px rgba(60, 64, 67, 0.15);\n",
              "      fill: #174EA6;\n",
              "    }\n",
              "\n",
              "    .colab-df-buttons div {\n",
              "      margin-bottom: 4px;\n",
              "    }\n",
              "\n",
              "    [theme=dark] .colab-df-convert {\n",
              "      background-color: #3B4455;\n",
              "      fill: #D2E3FC;\n",
              "    }\n",
              "\n",
              "    [theme=dark] .colab-df-convert:hover {\n",
              "      background-color: #434B5C;\n",
              "      box-shadow: 0px 1px 3px 1px rgba(0, 0, 0, 0.15);\n",
              "      filter: drop-shadow(0px 1px 2px rgba(0, 0, 0, 0.3));\n",
              "      fill: #FFFFFF;\n",
              "    }\n",
              "  </style>\n",
              "\n",
              "    <script>\n",
              "      const buttonEl =\n",
              "        document.querySelector('#df-7b94cc8c-3592-41a9-ad9a-e544a5df5f2e button.colab-df-convert');\n",
              "      buttonEl.style.display =\n",
              "        google.colab.kernel.accessAllowed ? 'block' : 'none';\n",
              "\n",
              "      async function convertToInteractive(key) {\n",
              "        const element = document.querySelector('#df-7b94cc8c-3592-41a9-ad9a-e544a5df5f2e');\n",
              "        const dataTable =\n",
              "          await google.colab.kernel.invokeFunction('convertToInteractive',\n",
              "                                                    [key], {});\n",
              "        if (!dataTable) return;\n",
              "\n",
              "        const docLinkHtml = 'Like what you see? Visit the ' +\n",
              "          '<a target=\"_blank\" href=https://colab.research.google.com/notebooks/data_table.ipynb>data table notebook</a>'\n",
              "          + ' to learn more about interactive tables.';\n",
              "        element.innerHTML = '';\n",
              "        dataTable['output_type'] = 'display_data';\n",
              "        await google.colab.output.renderOutput(dataTable, element);\n",
              "        const docLink = document.createElement('div');\n",
              "        docLink.innerHTML = docLinkHtml;\n",
              "        element.appendChild(docLink);\n",
              "      }\n",
              "    </script>\n",
              "  </div>\n",
              "\n",
              "\n",
              "<div id=\"df-f83e97e4-c3b1-4d02-a3b0-c075fcda6369\">\n",
              "  <button class=\"colab-df-quickchart\" onclick=\"quickchart('df-f83e97e4-c3b1-4d02-a3b0-c075fcda6369')\"\n",
              "            title=\"Suggest charts\"\n",
              "            style=\"display:none;\">\n",
              "\n",
              "<svg xmlns=\"http://www.w3.org/2000/svg\" height=\"24px\"viewBox=\"0 0 24 24\"\n",
              "     width=\"24px\">\n",
              "    <g>\n",
              "        <path d=\"M19 3H5c-1.1 0-2 .9-2 2v14c0 1.1.9 2 2 2h14c1.1 0 2-.9 2-2V5c0-1.1-.9-2-2-2zM9 17H7v-7h2v7zm4 0h-2V7h2v10zm4 0h-2v-4h2v4z\"/>\n",
              "    </g>\n",
              "</svg>\n",
              "  </button>\n",
              "\n",
              "<style>\n",
              "  .colab-df-quickchart {\n",
              "      --bg-color: #E8F0FE;\n",
              "      --fill-color: #1967D2;\n",
              "      --hover-bg-color: #E2EBFA;\n",
              "      --hover-fill-color: #174EA6;\n",
              "      --disabled-fill-color: #AAA;\n",
              "      --disabled-bg-color: #DDD;\n",
              "  }\n",
              "\n",
              "  [theme=dark] .colab-df-quickchart {\n",
              "      --bg-color: #3B4455;\n",
              "      --fill-color: #D2E3FC;\n",
              "      --hover-bg-color: #434B5C;\n",
              "      --hover-fill-color: #FFFFFF;\n",
              "      --disabled-bg-color: #3B4455;\n",
              "      --disabled-fill-color: #666;\n",
              "  }\n",
              "\n",
              "  .colab-df-quickchart {\n",
              "    background-color: var(--bg-color);\n",
              "    border: none;\n",
              "    border-radius: 50%;\n",
              "    cursor: pointer;\n",
              "    display: none;\n",
              "    fill: var(--fill-color);\n",
              "    height: 32px;\n",
              "    padding: 0;\n",
              "    width: 32px;\n",
              "  }\n",
              "\n",
              "  .colab-df-quickchart:hover {\n",
              "    background-color: var(--hover-bg-color);\n",
              "    box-shadow: 0 1px 2px rgba(60, 64, 67, 0.3), 0 1px 3px 1px rgba(60, 64, 67, 0.15);\n",
              "    fill: var(--button-hover-fill-color);\n",
              "  }\n",
              "\n",
              "  .colab-df-quickchart-complete:disabled,\n",
              "  .colab-df-quickchart-complete:disabled:hover {\n",
              "    background-color: var(--disabled-bg-color);\n",
              "    fill: var(--disabled-fill-color);\n",
              "    box-shadow: none;\n",
              "  }\n",
              "\n",
              "  .colab-df-spinner {\n",
              "    border: 2px solid var(--fill-color);\n",
              "    border-color: transparent;\n",
              "    border-bottom-color: var(--fill-color);\n",
              "    animation:\n",
              "      spin 1s steps(1) infinite;\n",
              "  }\n",
              "\n",
              "  @keyframes spin {\n",
              "    0% {\n",
              "      border-color: transparent;\n",
              "      border-bottom-color: var(--fill-color);\n",
              "      border-left-color: var(--fill-color);\n",
              "    }\n",
              "    20% {\n",
              "      border-color: transparent;\n",
              "      border-left-color: var(--fill-color);\n",
              "      border-top-color: var(--fill-color);\n",
              "    }\n",
              "    30% {\n",
              "      border-color: transparent;\n",
              "      border-left-color: var(--fill-color);\n",
              "      border-top-color: var(--fill-color);\n",
              "      border-right-color: var(--fill-color);\n",
              "    }\n",
              "    40% {\n",
              "      border-color: transparent;\n",
              "      border-right-color: var(--fill-color);\n",
              "      border-top-color: var(--fill-color);\n",
              "    }\n",
              "    60% {\n",
              "      border-color: transparent;\n",
              "      border-right-color: var(--fill-color);\n",
              "    }\n",
              "    80% {\n",
              "      border-color: transparent;\n",
              "      border-right-color: var(--fill-color);\n",
              "      border-bottom-color: var(--fill-color);\n",
              "    }\n",
              "    90% {\n",
              "      border-color: transparent;\n",
              "      border-bottom-color: var(--fill-color);\n",
              "    }\n",
              "  }\n",
              "</style>\n",
              "\n",
              "  <script>\n",
              "    async function quickchart(key) {\n",
              "      const quickchartButtonEl =\n",
              "        document.querySelector('#' + key + ' button');\n",
              "      quickchartButtonEl.disabled = true;  // To prevent multiple clicks.\n",
              "      quickchartButtonEl.classList.add('colab-df-spinner');\n",
              "      try {\n",
              "        const charts = await google.colab.kernel.invokeFunction(\n",
              "            'suggestCharts', [key], {});\n",
              "      } catch (error) {\n",
              "        console.error('Error during call to suggestCharts:', error);\n",
              "      }\n",
              "      quickchartButtonEl.classList.remove('colab-df-spinner');\n",
              "      quickchartButtonEl.classList.add('colab-df-quickchart-complete');\n",
              "    }\n",
              "    (() => {\n",
              "      let quickchartButtonEl =\n",
              "        document.querySelector('#df-f83e97e4-c3b1-4d02-a3b0-c075fcda6369 button');\n",
              "      quickchartButtonEl.style.display =\n",
              "        google.colab.kernel.accessAllowed ? 'block' : 'none';\n",
              "    })();\n",
              "  </script>\n",
              "</div>\n",
              "    </div>\n",
              "  </div>\n"
            ]
          },
          "metadata": {},
          "execution_count": 6
        }
      ]
    },
    {
      "cell_type": "code",
      "source": [
        "cat['Began'] = pd.to_datetime(cat['Began'])"
      ],
      "metadata": {
        "id": "8Jgvjv-DVbnB"
      },
      "execution_count": null,
      "outputs": []
    },
    {
      "cell_type": "code",
      "source": [
        "month_ohe = pd.get_dummies(cat['Began'].dt.month, drop_first = True)\n",
        "\n",
        "#iso_ohe = pd.get_dummies(cat['ISO3'], drop_first = True)"
      ],
      "metadata": {
        "id": "WHQpD-mMT5d5"
      },
      "execution_count": null,
      "outputs": []
    },
    {
      "cell_type": "code",
      "source": [
        "cat = cat.drop(columns = ['ISO3', 'Began'])\n",
        "cat = cat.join(month_ohe)\n",
        "#cat = cat.join(iso_ohe)"
      ],
      "metadata": {
        "id": "ED7vi5QLT6F5"
      },
      "execution_count": null,
      "outputs": []
    },
    {
      "cell_type": "code",
      "source": [
        "cat['MainCause'] = cat['MainCause'].str.lower()"
      ],
      "metadata": {
        "id": "Y99D12oiUDJs"
      },
      "execution_count": null,
      "outputs": []
    },
    {
      "cell_type": "code",
      "source": [
        "cat['Storms'] = np.zeros(cat.shape[0])\n",
        "cat['DamBreak'] = np.zeros(cat.shape[0])\n",
        "cat['Rain'] = np.zeros(cat.shape[0])\n",
        "cat['Melting'] = np.zeros(cat.shape[0])\n",
        "cat['TidesTsunami'] = np.zeros(cat.shape[0])"
      ],
      "metadata": {
        "id": "lVrxkBglUEtC"
      },
      "execution_count": null,
      "outputs": []
    },
    {
      "cell_type": "code",
      "source": [
        "for index, row in cat.iterrows():\n",
        "  maincause = row['MainCause']\n",
        "  if ('tropical' in maincause) or ('storm' in maincause) or ('monsoon' in maincause) or ('cyclone' in maincause) or ('typhoon' in maincause):\n",
        "    cat.loc[index, 'Storms'] = 1\n",
        "  if ('dam' in maincause):\n",
        "    cat.loc[index, 'DamBreak'] = 1\n",
        "  if ('rain' in maincause):\n",
        "    cat.loc[index, 'Rain'] = 1\n",
        "  if ('snow' in maincause) or ('ice' in maincause) or ('glacier' in maincause) or ('jökulhlaup' in maincause):\n",
        "    cat.loc[index, 'Melting'] = 1\n",
        "  if ('tide' in maincause) or ('tsunami' in maincause):\n",
        "    cat.loc[index, 'TidesTsunami'] = 1"
      ],
      "metadata": {
        "id": "8mPHPLKEUGU5"
      },
      "execution_count": null,
      "outputs": []
    },
    {
      "cell_type": "code",
      "source": [
        "cat = cat.drop(columns = ['MainCause'])"
      ],
      "metadata": {
        "id": "fPEYBEUyUI_9"
      },
      "execution_count": null,
      "outputs": []
    },
    {
      "cell_type": "code",
      "source": [
        "for col in cat.columns:\n",
        "  print(col, end=' | ')"
      ],
      "metadata": {
        "colab": {
          "base_uri": "https://localhost:8080/"
        },
        "id": "bJOoTBTRULCV",
        "outputId": "b62d76b9-d852-4f00-dd25-2d8f850354f6"
      },
      "execution_count": null,
      "outputs": [
        {
          "output_type": "stream",
          "name": "stdout",
          "text": [
            "IDPs from Event | econ | gov | soc | cap | eco | exp | food | hab | health | infra | sens | Area | Severity | Duration | Magnitude | Population | Population Density (People per Sq. Km.) | Net international migrants, both sexes | binnedIDPs | 2 | 3 | 4 | 5 | 6 | 7 | 8 | 9 | 10 | 11 | 12 | Storms | DamBreak | Rain | Melting | TidesTsunami | "
          ]
        }
      ]
    },
    {
      "cell_type": "code",
      "source": [
        "cat = cat.replace(',','', regex=True)\n",
        "cat = cat.replace('--','0', regex=True)\n",
        "cat.shape"
      ],
      "metadata": {
        "colab": {
          "base_uri": "https://localhost:8080/"
        },
        "id": "nlcTklmYUN2z",
        "outputId": "49442733-5cd8-4a3a-930a-b75f1006fa89"
      },
      "execution_count": null,
      "outputs": [
        {
          "output_type": "execute_result",
          "data": {
            "text/plain": [
              "(2622, 36)"
            ]
          },
          "metadata": {},
          "execution_count": 15
        }
      ]
    },
    {
      "cell_type": "code",
      "source": [
        "cat = cat.dropna()\n",
        "cat.shape"
      ],
      "metadata": {
        "colab": {
          "base_uri": "https://localhost:8080/"
        },
        "id": "3toHhOT5UP46",
        "outputId": "de7c563a-b968-4812-f771-542f2aecedf1"
      },
      "execution_count": null,
      "outputs": [
        {
          "output_type": "execute_result",
          "data": {
            "text/plain": [
              "(2622, 36)"
            ]
          },
          "metadata": {},
          "execution_count": 16
        }
      ]
    },
    {
      "cell_type": "code",
      "source": [
        "target = cat[['binnedIDPs']]\n",
        "cat = cat.drop(columns = ['binnedIDPs'])\n",
        "cat['binnedIDPs'] = target\n",
        "cat.head()"
      ],
      "metadata": {
        "colab": {
          "base_uri": "https://localhost:8080/",
          "height": 290
        },
        "id": "gJlE6UpBUnIr",
        "outputId": "2c0cf0de-cfa5-4438-80b7-5cbdcac265ad"
      },
      "execution_count": null,
      "outputs": [
        {
          "output_type": "execute_result",
          "data": {
            "text/plain": [
              "    IDPs from Event      econ       gov      soc       cap      eco       exp  \\\n",
              "31             3920  0.139844  0.308112  0.18999  0.734707  0.54614  0.543063   \n",
              "32             3920  0.139844  0.308112  0.18999  0.734707  0.54614  0.543063   \n",
              "33             1192  0.139844  0.308112  0.18999  0.734707  0.54614  0.543063   \n",
              "34             1192  0.139844  0.308112  0.18999  0.734707  0.54614  0.543063   \n",
              "35              483  0.139844  0.308112  0.18999  0.734707  0.54614  0.543063   \n",
              "\n",
              "        food       hab    health  ...  9  10  11  12  Storms  DamBreak Rain  \\\n",
              "31  0.571513  0.680376  0.583568  ...  0   0   0   0     0.0       0.0  1.0   \n",
              "32  0.571513  0.680376  0.583568  ...  0   0   0   0     0.0       0.0  1.0   \n",
              "33  0.571513  0.680376  0.583568  ...  0   0   0   0     0.0       0.0  1.0   \n",
              "34  0.571513  0.680376  0.583568  ...  0   0   0   0     0.0       0.0  1.0   \n",
              "35  0.571513  0.680376  0.583568  ...  0   0   0   0     0.0       0.0  1.0   \n",
              "\n",
              "   Melting TidesTsunami  binnedIDPs  \n",
              "31     0.0          0.0        high  \n",
              "32     0.0          0.0        high  \n",
              "33     0.0          0.0         med  \n",
              "34     0.0          0.0         med  \n",
              "35     0.0          0.0         med  \n",
              "\n",
              "[5 rows x 36 columns]"
            ],
            "text/html": [
              "\n",
              "  <div id=\"df-97b9cee2-280f-4641-aebc-91f079a3d6fd\" class=\"colab-df-container\">\n",
              "    <div>\n",
              "<style scoped>\n",
              "    .dataframe tbody tr th:only-of-type {\n",
              "        vertical-align: middle;\n",
              "    }\n",
              "\n",
              "    .dataframe tbody tr th {\n",
              "        vertical-align: top;\n",
              "    }\n",
              "\n",
              "    .dataframe thead th {\n",
              "        text-align: right;\n",
              "    }\n",
              "</style>\n",
              "<table border=\"1\" class=\"dataframe\">\n",
              "  <thead>\n",
              "    <tr style=\"text-align: right;\">\n",
              "      <th></th>\n",
              "      <th>IDPs from Event</th>\n",
              "      <th>econ</th>\n",
              "      <th>gov</th>\n",
              "      <th>soc</th>\n",
              "      <th>cap</th>\n",
              "      <th>eco</th>\n",
              "      <th>exp</th>\n",
              "      <th>food</th>\n",
              "      <th>hab</th>\n",
              "      <th>health</th>\n",
              "      <th>...</th>\n",
              "      <th>9</th>\n",
              "      <th>10</th>\n",
              "      <th>11</th>\n",
              "      <th>12</th>\n",
              "      <th>Storms</th>\n",
              "      <th>DamBreak</th>\n",
              "      <th>Rain</th>\n",
              "      <th>Melting</th>\n",
              "      <th>TidesTsunami</th>\n",
              "      <th>binnedIDPs</th>\n",
              "    </tr>\n",
              "  </thead>\n",
              "  <tbody>\n",
              "    <tr>\n",
              "      <th>31</th>\n",
              "      <td>3920</td>\n",
              "      <td>0.139844</td>\n",
              "      <td>0.308112</td>\n",
              "      <td>0.18999</td>\n",
              "      <td>0.734707</td>\n",
              "      <td>0.54614</td>\n",
              "      <td>0.543063</td>\n",
              "      <td>0.571513</td>\n",
              "      <td>0.680376</td>\n",
              "      <td>0.583568</td>\n",
              "      <td>...</td>\n",
              "      <td>0</td>\n",
              "      <td>0</td>\n",
              "      <td>0</td>\n",
              "      <td>0</td>\n",
              "      <td>0.0</td>\n",
              "      <td>0.0</td>\n",
              "      <td>1.0</td>\n",
              "      <td>0.0</td>\n",
              "      <td>0.0</td>\n",
              "      <td>high</td>\n",
              "    </tr>\n",
              "    <tr>\n",
              "      <th>32</th>\n",
              "      <td>3920</td>\n",
              "      <td>0.139844</td>\n",
              "      <td>0.308112</td>\n",
              "      <td>0.18999</td>\n",
              "      <td>0.734707</td>\n",
              "      <td>0.54614</td>\n",
              "      <td>0.543063</td>\n",
              "      <td>0.571513</td>\n",
              "      <td>0.680376</td>\n",
              "      <td>0.583568</td>\n",
              "      <td>...</td>\n",
              "      <td>0</td>\n",
              "      <td>0</td>\n",
              "      <td>0</td>\n",
              "      <td>0</td>\n",
              "      <td>0.0</td>\n",
              "      <td>0.0</td>\n",
              "      <td>1.0</td>\n",
              "      <td>0.0</td>\n",
              "      <td>0.0</td>\n",
              "      <td>high</td>\n",
              "    </tr>\n",
              "    <tr>\n",
              "      <th>33</th>\n",
              "      <td>1192</td>\n",
              "      <td>0.139844</td>\n",
              "      <td>0.308112</td>\n",
              "      <td>0.18999</td>\n",
              "      <td>0.734707</td>\n",
              "      <td>0.54614</td>\n",
              "      <td>0.543063</td>\n",
              "      <td>0.571513</td>\n",
              "      <td>0.680376</td>\n",
              "      <td>0.583568</td>\n",
              "      <td>...</td>\n",
              "      <td>0</td>\n",
              "      <td>0</td>\n",
              "      <td>0</td>\n",
              "      <td>0</td>\n",
              "      <td>0.0</td>\n",
              "      <td>0.0</td>\n",
              "      <td>1.0</td>\n",
              "      <td>0.0</td>\n",
              "      <td>0.0</td>\n",
              "      <td>med</td>\n",
              "    </tr>\n",
              "    <tr>\n",
              "      <th>34</th>\n",
              "      <td>1192</td>\n",
              "      <td>0.139844</td>\n",
              "      <td>0.308112</td>\n",
              "      <td>0.18999</td>\n",
              "      <td>0.734707</td>\n",
              "      <td>0.54614</td>\n",
              "      <td>0.543063</td>\n",
              "      <td>0.571513</td>\n",
              "      <td>0.680376</td>\n",
              "      <td>0.583568</td>\n",
              "      <td>...</td>\n",
              "      <td>0</td>\n",
              "      <td>0</td>\n",
              "      <td>0</td>\n",
              "      <td>0</td>\n",
              "      <td>0.0</td>\n",
              "      <td>0.0</td>\n",
              "      <td>1.0</td>\n",
              "      <td>0.0</td>\n",
              "      <td>0.0</td>\n",
              "      <td>med</td>\n",
              "    </tr>\n",
              "    <tr>\n",
              "      <th>35</th>\n",
              "      <td>483</td>\n",
              "      <td>0.139844</td>\n",
              "      <td>0.308112</td>\n",
              "      <td>0.18999</td>\n",
              "      <td>0.734707</td>\n",
              "      <td>0.54614</td>\n",
              "      <td>0.543063</td>\n",
              "      <td>0.571513</td>\n",
              "      <td>0.680376</td>\n",
              "      <td>0.583568</td>\n",
              "      <td>...</td>\n",
              "      <td>0</td>\n",
              "      <td>0</td>\n",
              "      <td>0</td>\n",
              "      <td>0</td>\n",
              "      <td>0.0</td>\n",
              "      <td>0.0</td>\n",
              "      <td>1.0</td>\n",
              "      <td>0.0</td>\n",
              "      <td>0.0</td>\n",
              "      <td>med</td>\n",
              "    </tr>\n",
              "  </tbody>\n",
              "</table>\n",
              "<p>5 rows × 36 columns</p>\n",
              "</div>\n",
              "    <div class=\"colab-df-buttons\">\n",
              "\n",
              "  <div class=\"colab-df-container\">\n",
              "    <button class=\"colab-df-convert\" onclick=\"convertToInteractive('df-97b9cee2-280f-4641-aebc-91f079a3d6fd')\"\n",
              "            title=\"Convert this dataframe to an interactive table.\"\n",
              "            style=\"display:none;\">\n",
              "\n",
              "  <svg xmlns=\"http://www.w3.org/2000/svg\" height=\"24px\" viewBox=\"0 -960 960 960\">\n",
              "    <path d=\"M120-120v-720h720v720H120Zm60-500h600v-160H180v160Zm220 220h160v-160H400v160Zm0 220h160v-160H400v160ZM180-400h160v-160H180v160Zm440 0h160v-160H620v160ZM180-180h160v-160H180v160Zm440 0h160v-160H620v160Z\"/>\n",
              "  </svg>\n",
              "    </button>\n",
              "\n",
              "  <style>\n",
              "    .colab-df-container {\n",
              "      display:flex;\n",
              "      gap: 12px;\n",
              "    }\n",
              "\n",
              "    .colab-df-convert {\n",
              "      background-color: #E8F0FE;\n",
              "      border: none;\n",
              "      border-radius: 50%;\n",
              "      cursor: pointer;\n",
              "      display: none;\n",
              "      fill: #1967D2;\n",
              "      height: 32px;\n",
              "      padding: 0 0 0 0;\n",
              "      width: 32px;\n",
              "    }\n",
              "\n",
              "    .colab-df-convert:hover {\n",
              "      background-color: #E2EBFA;\n",
              "      box-shadow: 0px 1px 2px rgba(60, 64, 67, 0.3), 0px 1px 3px 1px rgba(60, 64, 67, 0.15);\n",
              "      fill: #174EA6;\n",
              "    }\n",
              "\n",
              "    .colab-df-buttons div {\n",
              "      margin-bottom: 4px;\n",
              "    }\n",
              "\n",
              "    [theme=dark] .colab-df-convert {\n",
              "      background-color: #3B4455;\n",
              "      fill: #D2E3FC;\n",
              "    }\n",
              "\n",
              "    [theme=dark] .colab-df-convert:hover {\n",
              "      background-color: #434B5C;\n",
              "      box-shadow: 0px 1px 3px 1px rgba(0, 0, 0, 0.15);\n",
              "      filter: drop-shadow(0px 1px 2px rgba(0, 0, 0, 0.3));\n",
              "      fill: #FFFFFF;\n",
              "    }\n",
              "  </style>\n",
              "\n",
              "    <script>\n",
              "      const buttonEl =\n",
              "        document.querySelector('#df-97b9cee2-280f-4641-aebc-91f079a3d6fd button.colab-df-convert');\n",
              "      buttonEl.style.display =\n",
              "        google.colab.kernel.accessAllowed ? 'block' : 'none';\n",
              "\n",
              "      async function convertToInteractive(key) {\n",
              "        const element = document.querySelector('#df-97b9cee2-280f-4641-aebc-91f079a3d6fd');\n",
              "        const dataTable =\n",
              "          await google.colab.kernel.invokeFunction('convertToInteractive',\n",
              "                                                    [key], {});\n",
              "        if (!dataTable) return;\n",
              "\n",
              "        const docLinkHtml = 'Like what you see? Visit the ' +\n",
              "          '<a target=\"_blank\" href=https://colab.research.google.com/notebooks/data_table.ipynb>data table notebook</a>'\n",
              "          + ' to learn more about interactive tables.';\n",
              "        element.innerHTML = '';\n",
              "        dataTable['output_type'] = 'display_data';\n",
              "        await google.colab.output.renderOutput(dataTable, element);\n",
              "        const docLink = document.createElement('div');\n",
              "        docLink.innerHTML = docLinkHtml;\n",
              "        element.appendChild(docLink);\n",
              "      }\n",
              "    </script>\n",
              "  </div>\n",
              "\n",
              "\n",
              "<div id=\"df-7fc1e8e8-02cf-41ae-8fc9-59446f3c8a14\">\n",
              "  <button class=\"colab-df-quickchart\" onclick=\"quickchart('df-7fc1e8e8-02cf-41ae-8fc9-59446f3c8a14')\"\n",
              "            title=\"Suggest charts\"\n",
              "            style=\"display:none;\">\n",
              "\n",
              "<svg xmlns=\"http://www.w3.org/2000/svg\" height=\"24px\"viewBox=\"0 0 24 24\"\n",
              "     width=\"24px\">\n",
              "    <g>\n",
              "        <path d=\"M19 3H5c-1.1 0-2 .9-2 2v14c0 1.1.9 2 2 2h14c1.1 0 2-.9 2-2V5c0-1.1-.9-2-2-2zM9 17H7v-7h2v7zm4 0h-2V7h2v10zm4 0h-2v-4h2v4z\"/>\n",
              "    </g>\n",
              "</svg>\n",
              "  </button>\n",
              "\n",
              "<style>\n",
              "  .colab-df-quickchart {\n",
              "      --bg-color: #E8F0FE;\n",
              "      --fill-color: #1967D2;\n",
              "      --hover-bg-color: #E2EBFA;\n",
              "      --hover-fill-color: #174EA6;\n",
              "      --disabled-fill-color: #AAA;\n",
              "      --disabled-bg-color: #DDD;\n",
              "  }\n",
              "\n",
              "  [theme=dark] .colab-df-quickchart {\n",
              "      --bg-color: #3B4455;\n",
              "      --fill-color: #D2E3FC;\n",
              "      --hover-bg-color: #434B5C;\n",
              "      --hover-fill-color: #FFFFFF;\n",
              "      --disabled-bg-color: #3B4455;\n",
              "      --disabled-fill-color: #666;\n",
              "  }\n",
              "\n",
              "  .colab-df-quickchart {\n",
              "    background-color: var(--bg-color);\n",
              "    border: none;\n",
              "    border-radius: 50%;\n",
              "    cursor: pointer;\n",
              "    display: none;\n",
              "    fill: var(--fill-color);\n",
              "    height: 32px;\n",
              "    padding: 0;\n",
              "    width: 32px;\n",
              "  }\n",
              "\n",
              "  .colab-df-quickchart:hover {\n",
              "    background-color: var(--hover-bg-color);\n",
              "    box-shadow: 0 1px 2px rgba(60, 64, 67, 0.3), 0 1px 3px 1px rgba(60, 64, 67, 0.15);\n",
              "    fill: var(--button-hover-fill-color);\n",
              "  }\n",
              "\n",
              "  .colab-df-quickchart-complete:disabled,\n",
              "  .colab-df-quickchart-complete:disabled:hover {\n",
              "    background-color: var(--disabled-bg-color);\n",
              "    fill: var(--disabled-fill-color);\n",
              "    box-shadow: none;\n",
              "  }\n",
              "\n",
              "  .colab-df-spinner {\n",
              "    border: 2px solid var(--fill-color);\n",
              "    border-color: transparent;\n",
              "    border-bottom-color: var(--fill-color);\n",
              "    animation:\n",
              "      spin 1s steps(1) infinite;\n",
              "  }\n",
              "\n",
              "  @keyframes spin {\n",
              "    0% {\n",
              "      border-color: transparent;\n",
              "      border-bottom-color: var(--fill-color);\n",
              "      border-left-color: var(--fill-color);\n",
              "    }\n",
              "    20% {\n",
              "      border-color: transparent;\n",
              "      border-left-color: var(--fill-color);\n",
              "      border-top-color: var(--fill-color);\n",
              "    }\n",
              "    30% {\n",
              "      border-color: transparent;\n",
              "      border-left-color: var(--fill-color);\n",
              "      border-top-color: var(--fill-color);\n",
              "      border-right-color: var(--fill-color);\n",
              "    }\n",
              "    40% {\n",
              "      border-color: transparent;\n",
              "      border-right-color: var(--fill-color);\n",
              "      border-top-color: var(--fill-color);\n",
              "    }\n",
              "    60% {\n",
              "      border-color: transparent;\n",
              "      border-right-color: var(--fill-color);\n",
              "    }\n",
              "    80% {\n",
              "      border-color: transparent;\n",
              "      border-right-color: var(--fill-color);\n",
              "      border-bottom-color: var(--fill-color);\n",
              "    }\n",
              "    90% {\n",
              "      border-color: transparent;\n",
              "      border-bottom-color: var(--fill-color);\n",
              "    }\n",
              "  }\n",
              "</style>\n",
              "\n",
              "  <script>\n",
              "    async function quickchart(key) {\n",
              "      const quickchartButtonEl =\n",
              "        document.querySelector('#' + key + ' button');\n",
              "      quickchartButtonEl.disabled = true;  // To prevent multiple clicks.\n",
              "      quickchartButtonEl.classList.add('colab-df-spinner');\n",
              "      try {\n",
              "        const charts = await google.colab.kernel.invokeFunction(\n",
              "            'suggestCharts', [key], {});\n",
              "      } catch (error) {\n",
              "        console.error('Error during call to suggestCharts:', error);\n",
              "      }\n",
              "      quickchartButtonEl.classList.remove('colab-df-spinner');\n",
              "      quickchartButtonEl.classList.add('colab-df-quickchart-complete');\n",
              "    }\n",
              "    (() => {\n",
              "      let quickchartButtonEl =\n",
              "        document.querySelector('#df-7fc1e8e8-02cf-41ae-8fc9-59446f3c8a14 button');\n",
              "      quickchartButtonEl.style.display =\n",
              "        google.colab.kernel.accessAllowed ? 'block' : 'none';\n",
              "    })();\n",
              "  </script>\n",
              "</div>\n",
              "    </div>\n",
              "  </div>\n"
            ]
          },
          "metadata": {},
          "execution_count": 17
        }
      ]
    },
    {
      "cell_type": "code",
      "source": [
        "cat = cat.drop(columns = ['Area', 'Severity', 'Duration'])\n",
        "catcop = cat.copy(deep=True)\n",
        "cat = cat.drop(columns = ['IDPs from Event'])"
      ],
      "metadata": {
        "id": "9X-3htWbipz7"
      },
      "execution_count": null,
      "outputs": []
    },
    {
      "cell_type": "code",
      "source": [
        "cat.to_csv('/content/drive/MyDrive/210RefugeeMoves/datasets/MODIFIEDCATDATA.csv')"
      ],
      "metadata": {
        "id": "uNa37bynW41V"
      },
      "execution_count": null,
      "outputs": []
    },
    {
      "cell_type": "markdown",
      "source": [
        "# training base 3 class RF"
      ],
      "metadata": {
        "id": "QsHLyUCrHHOX"
      }
    },
    {
      "cell_type": "code",
      "source": [
        "X = cat.iloc[:, :-1]\n",
        "Y = cat.iloc[:, cat.shape[1]-1]\n",
        "\n",
        "X= X.rename(str,axis=\"columns\")"
      ],
      "metadata": {
        "id": "jdUf7pplYURb"
      },
      "execution_count": null,
      "outputs": []
    },
    {
      "cell_type": "code",
      "source": [
        "# Split dataset into train and test sets\n",
        "X_train, X_test, Y_train, Y_test = train_test_split(X, Y, test_size=0.2, random_state=1)\n",
        "# Print shapes of each\n",
        "print('Training input:', X_train.shape)\n",
        "print('Testing input:', X_test.shape)\n",
        "print('Training output:', Y_train.shape)\n",
        "print('Testing output:', Y_test.shape)"
      ],
      "metadata": {
        "colab": {
          "base_uri": "https://localhost:8080/"
        },
        "id": "C4ZjL12PYiaU",
        "outputId": "ce16bf25-6890-401d-8be5-05de77e7defc"
      },
      "execution_count": null,
      "outputs": [
        {
          "output_type": "stream",
          "name": "stdout",
          "text": [
            "Training input: (2097, 31)\n",
            "Testing input: (525, 31)\n",
            "Training output: (2097,)\n",
            "Testing output: (525,)\n"
          ]
        }
      ]
    },
    {
      "cell_type": "code",
      "source": [
        "rf = RandomForestClassifier(random_state = 100)\n",
        "rf.fit(X_train, Y_train)\n",
        "\n",
        "y_pred = rf.predict(X_test)\n",
        "\n",
        "accuracy = accuracy_score(Y_test, y_pred)\n",
        "\n",
        "print(\"Accuracy:\", accuracy)"
      ],
      "metadata": {
        "colab": {
          "base_uri": "https://localhost:8080/"
        },
        "id": "KZqmscByjA0k",
        "outputId": "8a61ec92-4c24-4b40-a002-eaa3fbbd9119"
      },
      "execution_count": null,
      "outputs": [
        {
          "output_type": "stream",
          "name": "stdout",
          "text": [
            "Accuracy: 0.49523809523809526\n"
          ]
        }
      ]
    },
    {
      "cell_type": "code",
      "source": [
        "conf_mat = confusion_matrix(Y_test, y_pred, labels=[\"low\", \"med\", \"high\"], normalize = 'true')\n",
        "\n",
        "seaborn.heatmap(conf_mat, xticklabels=[\"low\", \"med\", \"high\"], yticklabels=[\"low\", \"med\", \"high\"], annot=True, fmt=\".2f\", cmap=\"Blues\")\n",
        "plt.xlabel('Predicted')\n",
        "plt.ylabel('True')\n",
        "plt.show()"
      ],
      "metadata": {
        "colab": {
          "base_uri": "https://localhost:8080/",
          "height": 465
        },
        "id": "tEYCWICTjjni",
        "outputId": "0e502ac5-d387-4b84-c559-45848dd973c1"
      },
      "execution_count": null,
      "outputs": [
        {
          "output_type": "display_data",
          "data": {
            "text/plain": [
              "<Figure size 1300x500 with 2 Axes>"
            ],
            "image/png": "[encoded data removed]"
          },
          "metadata": {}
        }
      ]
    },
    {
      "cell_type": "code",
      "source": [
        "features = X.columns\n",
        "importances = rf.feature_importances_\n",
        "indices = np.argsort(importances)\n",
        "plt.figure(figsize = (10,10))\n",
        "plt.title('Feature Importances')\n",
        "plt.barh(range(len(indices)), importances[indices], color='b', align='center')\n",
        "plt.yticks(range(len(indices)), [features[i] for i in indices])\n",
        "plt.xlabel('Relative Importance')\n",
        "plt.show()"
      ],
      "metadata": {
        "id": "W8RJhV6Ojkg2",
        "colab": {
          "base_uri": "https://localhost:8080/",
          "height": 872
        },
        "outputId": "46baae5f-0792-40e8-bdc5-18f32f29515c"
      },
      "execution_count": null,
      "outputs": [
        {
          "output_type": "display_data",
          "data": {
            "text/plain": [
              "<Figure size 1000x1000 with 1 Axes>"
            ],
            "image/png": "[encoded data removed]"
          },
          "metadata": {}
        }
      ]
    },
    {
      "cell_type": "markdown",
      "source": [
        "# Code for random search hyperparameter tuning"
      ],
      "metadata": {
        "id": "_RSEtTjdF0kt"
      }
    },
    {
      "cell_type": "code",
      "source": [
        "from sklearn.model_selection import RandomizedSearchCV\n",
        "# Number of trees in random forest\n",
        "n_estimators = [int(x) for x in np.linspace(start = 200, stop = 2000, num = 10)]\n",
        "# Number of features to consider at every split\n",
        "max_features = ['auto', 'sqrt']\n",
        "# Maximum number of levels in tree\n",
        "max_depth = [int(x) for x in np.linspace(10, 110, num = 11)]\n",
        "max_depth.append(None)\n",
        "# Minimum number of samples required to split a node\n",
        "min_samples_split = [2, 5, 10]\n",
        "# Minimum number of samples required at each leaf node\n",
        "min_samples_leaf = [1, 2, 4]\n",
        "# Method of selecting samples for training each tree\n",
        "bootstrap = [True, False]\n",
        "# Create the random grid\n",
        "random_grid = {'n_estimators': n_estimators,\n",
        "               'max_features': max_features,\n",
        "               'max_depth': max_depth,\n",
        "               'min_samples_split': min_samples_split,\n",
        "               'min_samples_leaf': min_samples_leaf,\n",
        "               'bootstrap': bootstrap}\n",
        "\n",
        "# {'bootstrap': [True, False],\n",
        "#  'max_depth': [10, 20, 30, 40, 50, 60, 70, 80, 90, 100, None],\n",
        "#  'max_features': ['auto', 'sqrt'],\n",
        "#  'min_samples_leaf': [1, 2, 4],\n",
        "#  'min_samples_split': [2, 5, 10],\n",
        "#  'n_estimators': [200, 400, 600, 800, 1000, 1200, 1400, 1600, 1800, 2000]}\n",
        "\n",
        "# # Use the random grid to search for best hyperparameters\n",
        "# # First create the base model to tune\n",
        "# rf = RandomForestClassifier()\n",
        "# # Random search of parameters, using 3 fold cross validation,\n",
        "# # search across 100 different combinations, and use all available cores\n",
        "# rf_random = RandomizedSearchCV(estimator = rf, param_distributions = random_grid, n_iter = 100, cv = 3, verbose=2, random_state=42, n_jobs = -1)\n",
        "# # Fit the random search model\n",
        "# rf_random.fit(X_train, Y_train)\n",
        "\n",
        "# y_pred = rf_random.predict(X_test)\n",
        "\n",
        "# accuracy = accuracy_score(Y_test, y_pred)\n",
        "# print(\"Accuracy:\", accuracy)\n",
        "\n",
        "# rf_random.get_params()"
      ],
      "metadata": {
        "id": "jzinK_Gtatte"
      },
      "execution_count": null,
      "outputs": []
    },
    {
      "cell_type": "markdown",
      "source": [
        "# code for exporting tree png"
      ],
      "metadata": {
        "id": "ZLdi6dK5F5dv"
      }
    },
    {
      "cell_type": "code",
      "source": [
        "#Export the first three decision trees from the forest\n",
        "\n",
        "# for i in range(3):\n",
        "#     tree = rf.estimators_[i]\n",
        "#     dot_data = export_graphviz(tree,\n",
        "#                                feature_names=pd.DataFrame(X_train).columns,\n",
        "#                                filled=True,\n",
        "#                                max_depth=None,\n",
        "#                                impurity=False,\n",
        "#                                proportion=True)\n",
        "#     graph = graphviz.Source(dot_data)\n",
        "#     display(graph)\n",
        "# graph = graphviz.Source(dot_data)\n",
        "# graph.render(\"full_decision_tree\", format=\"png\")"
      ],
      "metadata": {
        "id": "d4P0m3jeYj0h"
      },
      "execution_count": null,
      "outputs": []
    },
    {
      "cell_type": "code",
      "source": [],
      "metadata": {
        "id": "xdSgfeLbf16P"
      },
      "execution_count": null,
      "outputs": []
    },
    {
      "cell_type": "code",
      "source": [
        "#"
      ],
      "metadata": {
        "id": "3MQGb6yhg0oV"
      },
      "execution_count": null,
      "outputs": []
    },
    {
      "cell_type": "markdown",
      "source": [
        "# Med/High class model"
      ],
      "metadata": {
        "id": "PwOdpF5XF-hP"
      }
    },
    {
      "cell_type": "code",
      "source": [
        "cat.shape"
      ],
      "metadata": {
        "colab": {
          "base_uri": "https://localhost:8080/"
        },
        "id": "hbUwXjl1F9vP",
        "outputId": "a841dea0-7874-4bf4-af47-4f6fc48e60a1"
      },
      "execution_count": null,
      "outputs": [
        {
          "output_type": "execute_result",
          "data": {
            "text/plain": [
              "(2622, 32)"
            ]
          },
          "metadata": {},
          "execution_count": 28
        }
      ]
    },
    {
      "cell_type": "code",
      "source": [
        "specat = cat[cat['binnedIDPs'] != 'low']\n",
        "specat.shape"
      ],
      "metadata": {
        "colab": {
          "base_uri": "https://localhost:8080/"
        },
        "id": "6iN7QUyOGrtf",
        "outputId": "cfec7e4b-52d3-45ac-c13c-1153be3108e4"
      },
      "execution_count": null,
      "outputs": [
        {
          "output_type": "execute_result",
          "data": {
            "text/plain": [
              "(1747, 32)"
            ]
          },
          "metadata": {},
          "execution_count": 29
        }
      ]
    },
    {
      "cell_type": "code",
      "source": [
        "for col in specat.columns:\n",
        "  print(col, end=' | ')"
      ],
      "metadata": {
        "colab": {
          "base_uri": "https://localhost:8080/"
        },
        "id": "oPyiaGWxHxl6",
        "outputId": "4b416995-ac53-44a9-aabf-734b923e77ab"
      },
      "execution_count": null,
      "outputs": [
        {
          "output_type": "stream",
          "name": "stdout",
          "text": [
            "econ | gov | soc | cap | eco | exp | food | hab | health | infra | sens | Magnitude | Population | Population Density (People per Sq. Km.) | Net international migrants, both sexes | 2 | 3 | 4 | 5 | 6 | 7 | 8 | 9 | 10 | 11 | 12 | Storms | DamBreak | Rain | Melting | TidesTsunami | binnedIDPs | "
          ]
        }
      ]
    },
    {
      "cell_type": "code",
      "source": [
        "#specat = specat.drop(columns = [2,3,4,5,6,7,8,9,10,11,12,'Rain','Storms','Melting','DamBreak','TidesTsunami'])"
      ],
      "metadata": {
        "id": "AK6zQ4nlLbe7"
      },
      "execution_count": null,
      "outputs": []
    },
    {
      "cell_type": "code",
      "source": [
        "X = specat.iloc[:, :-1]\n",
        "Y = specat.iloc[:, specat.shape[1]-1]\n",
        "\n",
        "X= X.rename(str,axis=\"columns\")"
      ],
      "metadata": {
        "id": "ohwVEm_sG0Yg"
      },
      "execution_count": null,
      "outputs": []
    },
    {
      "cell_type": "code",
      "source": [
        "# Split dataset into train and test sets\n",
        "X_train, X_test, Y_train, Y_test = train_test_split(X, Y, test_size=0.2, random_state=1)\n",
        "# Print shapes of each\n",
        "print('Training input:', X_train.shape)\n",
        "print('Testing input:', X_test.shape)\n",
        "print('Training output:', Y_train.shape)\n",
        "print('Testing output:', Y_test.shape)"
      ],
      "metadata": {
        "colab": {
          "base_uri": "https://localhost:8080/"
        },
        "id": "HM6Oan4AHOUW",
        "outputId": "c7b61d42-7b29-454f-ff19-7b2ebd17a322"
      },
      "execution_count": null,
      "outputs": [
        {
          "output_type": "stream",
          "name": "stdout",
          "text": [
            "Training input: (1397, 31)\n",
            "Testing input: (350, 31)\n",
            "Training output: (1397,)\n",
            "Testing output: (350,)\n"
          ]
        }
      ]
    },
    {
      "cell_type": "code",
      "source": [
        "rf = RandomForestClassifier(random_state = 100)\n",
        "rf.fit(X_train, Y_train)\n",
        "\n",
        "y_pred = rf.predict(X_test)\n",
        "\n",
        "accuracy = accuracy_score(Y_test, y_pred)\n",
        "\n",
        "print(\"Accuracy:\", accuracy)"
      ],
      "metadata": {
        "colab": {
          "base_uri": "https://localhost:8080/"
        },
        "id": "acJiUGXHHQK0",
        "outputId": "6c0d1f1f-9a77-46f8-eb1d-e4374180941c"
      },
      "execution_count": null,
      "outputs": [
        {
          "output_type": "stream",
          "name": "stdout",
          "text": [
            "Accuracy: 0.64\n"
          ]
        }
      ]
    },
    {
      "cell_type": "code",
      "source": [
        "conf_mat = confusion_matrix(Y_test, y_pred, labels=[\"med\", \"high\"])\n",
        "\n",
        "seaborn.heatmap(conf_mat, xticklabels=[\"med\", \"high\"], yticklabels=[\"med\", \"high\"], annot=True, fmt=\"d\", cmap=\"Blues\")\n",
        "plt.xlabel('Predicted')\n",
        "plt.ylabel('True')\n",
        "plt.show()"
      ],
      "metadata": {
        "colab": {
          "base_uri": "https://localhost:8080/",
          "height": 465
        },
        "id": "PjQUJlucHSjO",
        "outputId": "f40a4ed1-c5bb-4bd0-e3c9-c94a7cf1277d"
      },
      "execution_count": null,
      "outputs": [
        {
          "output_type": "display_data",
          "data": {
            "text/plain": [
              "<Figure size 1300x500 with 2 Axes>"
            ],
            "image/png": "[encoded data removed]"
          },
          "metadata": {}
        }
      ]
    },
    {
      "cell_type": "code",
      "source": [
        "features = X.columns\n",
        "importances = rf.feature_importances_\n",
        "indices = np.argsort(importances)\n",
        "plt.figure(figsize = (10,10))\n",
        "plt.title('Feature Importances')\n",
        "plt.barh(range(len(indices)), importances[indices], color='b', align='center')\n",
        "plt.yticks(range(len(indices)), [features[i] for i in indices])\n",
        "plt.xlabel('Relative Importance')\n",
        "plt.show()"
      ],
      "metadata": {
        "colab": {
          "base_uri": "https://localhost:8080/",
          "height": 872
        },
        "id": "qXFgcfi8HUtX",
        "outputId": "dc2feb67-2820-462d-ebab-6841033042fb"
      },
      "execution_count": null,
      "outputs": [
        {
          "output_type": "display_data",
          "data": {
            "text/plain": [
              "<Figure size 1000x1000 with 1 Axes>"
            ],
            "image/png": "[encoded data removed]"
          },
          "metadata": {}
        }
      ]
    },
    {
      "cell_type": "code",
      "source": [
        "clf = LogisticRegression()\n",
        "clf.fit(X_train, Y_train)\n",
        "\n",
        "y_pred = clf.predict(X_test)\n",
        "\n",
        "accuracy = accuracy_score(Y_test, y_pred)\n",
        "\n",
        "print(\"Accuracy:\", accuracy)"
      ],
      "metadata": {
        "colab": {
          "base_uri": "https://localhost:8080/"
        },
        "id": "hLKLFg5bHirr",
        "outputId": "a3f6df1e-4126-41c7-a13f-02b74a4b1f40"
      },
      "execution_count": null,
      "outputs": [
        {
          "output_type": "stream",
          "name": "stdout",
          "text": [
            "Accuracy: 0.6342857142857142\n"
          ]
        }
      ]
    },
    {
      "cell_type": "code",
      "source": [
        "conf_mat = confusion_matrix(Y_test, y_pred, labels=[\"med\", \"high\"])\n",
        "\n",
        "seaborn.heatmap(conf_mat, xticklabels=[\"med\", \"high\"], yticklabels=[\"med\", \"high\"], annot=True, fmt=\"d\", cmap=\"Blues\")\n",
        "plt.xlabel('Predicted')\n",
        "plt.ylabel('True')\n",
        "plt.show()"
      ],
      "metadata": {
        "colab": {
          "base_uri": "https://localhost:8080/",
          "height": 465
        },
        "id": "bf6NR6edKZE0",
        "outputId": "9e680080-4853-49bf-9ed0-b094e073829a"
      },
      "execution_count": null,
      "outputs": [
        {
          "output_type": "display_data",
          "data": {
            "text/plain": [
              "<Figure size 1300x500 with 2 Axes>"
            ],
            "image/png": "[encoded data removed]"
          },
          "metadata": {}
        }
      ]
    },
    {
      "cell_type": "code",
      "source": [
        "pipe = make_pipeline(StandardScaler(), LogisticRegression())\n",
        "pipe.fit(X_train, Y_train)\n",
        "y_pred = pipe.predict(X_test)\n",
        "\n",
        "accuracy = accuracy_score(Y_test, y_pred)\n",
        "\n",
        "print(\"Accuracy:\", accuracy)"
      ],
      "metadata": {
        "colab": {
          "base_uri": "https://localhost:8080/"
        },
        "id": "kmPG28XILJTy",
        "outputId": "e86cca81-fab7-445a-c94c-00ea53dae07b"
      },
      "execution_count": null,
      "outputs": [
        {
          "output_type": "stream",
          "name": "stdout",
          "text": [
            "Accuracy: 0.6628571428571428\n"
          ]
        }
      ]
    },
    {
      "cell_type": "code",
      "source": [
        "conf_mat = confusion_matrix(Y_test, y_pred, labels=[\"med\", \"high\"])\n",
        "\n",
        "seaborn.heatmap(conf_mat, xticklabels=[\"med\", \"high\"], yticklabels=[\"med\", \"high\"], annot=True, fmt=\"d\", cmap=\"Blues\")\n",
        "plt.xlabel('Predicted')\n",
        "plt.ylabel('True')\n",
        "plt.show()"
      ],
      "metadata": {
        "colab": {
          "base_uri": "https://localhost:8080/",
          "height": 465
        },
        "id": "1O1PdBJaNZdJ",
        "outputId": "bd8c6103-10c7-4992-a2f9-8cecac5e6511"
      },
      "execution_count": null,
      "outputs": [
        {
          "output_type": "display_data",
          "data": {
            "text/plain": [
              "<Figure size 1300x500 with 2 Axes>"
            ],
            "image/png": "[encoded data removed]"
          },
          "metadata": {}
        }
      ]
    },
    {
      "cell_type": "markdown",
      "source": [
        "so ensemble model will:\n",
        "\n",
        "- for each row,\n",
        ">- predict with base model\n",
        ">- if prediction is \"low\",\n",
        ">>- keep pred\n",
        ">- if prediction is \"med\",\n",
        ">>- predict with model that has best accuracy for med class\n",
        ">- if prediction is \"high\",\n",
        ">>- predict with model that has best accuracy for high class"
      ],
      "metadata": {
        "id": "Ui4n45XyRBtz"
      }
    },
    {
      "cell_type": "code",
      "source": [
        "def ensemble(data):\n",
        "  X_full = data.iloc[:, :-1]\n",
        "  Y_full = data.iloc[:, data.shape[1]-1]\n",
        "  X_full = X_full.rename(str,axis=\"columns\")\n",
        "  Xf_train, Xf_test, Yf_train, Yf_test = train_test_split(X_full, Y_full, test_size=0.2, random_state=1)\n",
        "\n",
        "  sdata = data[data['binnedIDPs'] != 'low']\n",
        "  X_small = data.iloc[:, :-1]\n",
        "  Y_small = data.iloc[:, data.shape[1]-1]\n",
        "  X_small = X_small.rename(str,axis=\"columns\")\n",
        "  Xs_train, Xs_test, Ys_train, Ys_test = train_test_split(X_small, Y_small, test_size=0.2, random_state=1)\n",
        "\n",
        "  rff = RandomForestClassifier(random_state = 100)\n",
        "  rff.fit(Xf_train.values, Yf_train.values)\n",
        "  rfs = LogisticRegression(random_state = 100)\n",
        "  rfs.fit(Xs_train.values, Ys_train.values)\n",
        "  y_pred = []\n",
        "\n",
        "  for i, row in Xf_test.iterrows():\n",
        "    base_pred = rff.predict(row.to_numpy().reshape(1, -1))\n",
        "    if base_pred == 'low':\n",
        "      y_pred.append(base_pred)\n",
        "    else:\n",
        "      y_pred.append(rfs.predict(row.to_numpy().reshape(1, -1)))\n",
        "\n",
        "  accuracy = accuracy_score(Yf_test, y_pred)\n",
        "\n",
        "  return accuracy\n",
        "\n",
        "ensemble(cat)"
      ],
      "metadata": {
        "colab": {
          "base_uri": "https://localhost:8080/"
        },
        "id": "pSeRAUjPRb5F",
        "outputId": "4a2f1d3a-5c62-4e47-e3f6-35a36619f5c3"
      },
      "execution_count": null,
      "outputs": [
        {
          "output_type": "execute_result",
          "data": {
            "text/plain": [
              "0.49333333333333335"
            ]
          },
          "metadata": {},
          "execution_count": 41
        }
      ]
    },
    {
      "cell_type": "code",
      "source": [],
      "metadata": {
        "id": "BR3RdfS_Mv2Z"
      },
      "execution_count": null,
      "outputs": []
    }
  ]
}